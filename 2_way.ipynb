{
 "cells": [
  {
   "cell_type": "code",
   "execution_count": null,
   "id": "initial_id",
   "metadata": {
    "ExecuteTime": {
     "end_time": "2024-11-10T08:47:54.688527Z",
     "start_time": "2024-11-10T08:47:54.580320Z"
    },
    "collapsed": true
   },
   "outputs": [
    {
     "data": {
      "text/html": [
       "<div>\n",
       "<style scoped>\n",
       "    .dataframe tbody tr th:only-of-type {\n",
       "        vertical-align: middle;\n",
       "    }\n",
       "\n",
       "    .dataframe tbody tr th {\n",
       "        vertical-align: top;\n",
       "    }\n",
       "\n",
       "    .dataframe thead th {\n",
       "        text-align: right;\n",
       "    }\n",
       "</style>\n",
       "<table border=\"1\" class=\"dataframe\">\n",
       "  <thead>\n",
       "    <tr style=\"text-align: right;\">\n",
       "      <th></th>\n",
       "      <th>Name</th>\n",
       "      <th>Area/Region</th>\n",
       "      <th>Section</th>\n",
       "      <th>Metres</th>\n",
       "      <th>Feet</th>\n",
       "      <th>Latitude</th>\n",
       "      <th>Longitude</th>\n",
       "    </tr>\n",
       "  </thead>\n",
       "  <tbody>\n",
       "  </tbody>\n",
       "</table>\n",
       "</div>"
      ],
      "text/plain": [
       "Empty DataFrame\n",
       "Columns: [Name, Area/Region, Section, Metres, Feet, Latitude, Longitude]\n",
       "Index: []"
      ]
     },
     "metadata": {},
     "output_type": "display_data"
    }
   ],
   "source": [
    "import pandas as pd\n",
    "from IPython.display import display\n",
    "import folium\n",
    "import os\n",
    "\n",
    "path_jo = '/Users/gordonwatt/code/dev/munro/data/Jo.csv'\n",
    "path_gordon = '/Users/gordonwatt/code/dev/munro/data/Gordon.csv'\n",
    "path_alan = '/Users/gordonwatt/code/dev/munro/data/Alan_Dunmur.csv'\n",
    "path_ian = '/Users/gordonwatt/code/dev/munro/data/Ian_Sharp.csv'\n",
    "path_iain = '/Users/gordonwatt/code/dev/munro/data/Iain_Young.csv'\n",
    "path_freya = '/Users/gordonwatt/code/dev/munro/data/freya.csv'\n",
    "\n",
    "# Load the CSV files\n",
    "file1 = pd.read_csv(path_freya, encoding='utf-8')\n",
    "file2 = pd.read_csv(path_gordon, encoding='utf-8')\n",
    "\n",
    "  \n",
    "# Drop rows where ascents = true (we only want unclimbed hills)\n",
    "file1_filtered = file1[file1['Ascent'].notna()]\n",
    "file2_filtered = file2[file2['Ascent'].isna()]\n",
    "\n",
    "# Define the column to compare and merge the filtered DataFrames on the selected column\n",
    "column_name = 'Identifier'\n",
    "common_rows = pd.merge(file1_filtered, file2_filtered, on=column_name)\n",
    "\n",
    "# Remove duplicate columns from merge\n",
    "common_rows = common_rows[[col for col in common_rows.columns if not col.endswith('_y')]]\n",
    "\n",
    "# Extract the numeric part of 'Section_x' and store it in a new column 'Section' (this deals with section names like 10B)\n",
    "common_rows['Section_x'] = common_rows['Section_x'].str.extract(r'(\\d+)').astype(int)\n",
    "\n",
    "# Sort data by Section, then height\n",
    "common_rows = common_rows.sort_values(by=['Section_x', 'Area/Region_x', 'Metres_x'])\n",
    "\n",
    "# Remove _x suffix from headings\n",
    "common_rows.columns = common_rows.columns.str.replace('_x$', '', regex=True)\n",
    "\n",
    "# Drop columns for output\n",
    "output_common_rows = common_rows.drop(columns=['Identifier', 'Parent', 'Ascent', 'Notes'])\n",
    "\n",
    "# display(common_rows.tail(10))\n",
    "display(output_common_rows.head(20))"
   ]
  },
  {
   "cell_type": "code",
   "execution_count": 5,
   "id": "2ef0ed18a51ac1c4",
   "metadata": {
    "ExecuteTime": {
     "end_time": "2024-11-10T08:47:54.702033Z",
     "start_time": "2024-11-10T08:47:54.700011Z"
    }
   },
   "outputs": [],
   "source": [
    "# Save the result to a new CSV file\n",
    "# output_common_rows.to_csv('IY_GRW.csv', index=False)"
   ]
  },
  {
   "cell_type": "code",
   "execution_count": 6,
   "id": "e72d6ab01bd7fe15",
   "metadata": {
    "ExecuteTime": {
     "end_time": "2024-11-10T08:47:54.790661Z",
     "start_time": "2024-11-10T08:47:54.733378Z"
    }
   },
   "outputs": [
    {
     "ename": "ValueError",
     "evalue": "Location values cannot contain NaNs.",
     "output_type": "error",
     "traceback": [
      "\u001b[0;31m---------------------------------------------------------------------------\u001b[0m",
      "\u001b[0;31mValueError\u001b[0m                                Traceback (most recent call last)",
      "Cell \u001b[0;32mIn[6], line 6\u001b[0m\n\u001b[1;32m      4\u001b[0m center_lat \u001b[38;5;241m=\u001b[39m common_rows[\u001b[38;5;124m'\u001b[39m\u001b[38;5;124mLatitude\u001b[39m\u001b[38;5;124m'\u001b[39m]\u001b[38;5;241m.\u001b[39mmean()\n\u001b[1;32m      5\u001b[0m center_lon \u001b[38;5;241m=\u001b[39m common_rows[\u001b[38;5;124m'\u001b[39m\u001b[38;5;124mLongitude\u001b[39m\u001b[38;5;124m'\u001b[39m]\u001b[38;5;241m.\u001b[39mmean()\n\u001b[0;32m----> 6\u001b[0m m \u001b[38;5;241m=\u001b[39m \u001b[43mfolium\u001b[49m\u001b[38;5;241;43m.\u001b[39;49m\u001b[43mMap\u001b[49m\u001b[43m(\u001b[49m\u001b[43mlocation\u001b[49m\u001b[38;5;241;43m=\u001b[39;49m\u001b[43m[\u001b[49m\u001b[43mcenter_lat\u001b[49m\u001b[43m,\u001b[49m\u001b[43m \u001b[49m\u001b[43mcenter_lon\u001b[49m\u001b[43m]\u001b[49m\u001b[43m,\u001b[49m\u001b[43m \u001b[49m\u001b[43mzoom_start\u001b[49m\u001b[38;5;241;43m=\u001b[39;49m\u001b[38;5;241;43m7\u001b[39;49m\u001b[43m)\u001b[49m\n\u001b[1;32m      8\u001b[0m \u001b[38;5;66;03m# Add markers with name labels next to each point\u001b[39;00m\n\u001b[1;32m      9\u001b[0m \u001b[38;5;28;01mfor\u001b[39;00m idx, row \u001b[38;5;129;01min\u001b[39;00m output_common_rows\u001b[38;5;241m.\u001b[39miterrows():\n\u001b[1;32m     10\u001b[0m     \u001b[38;5;66;03m# Customize marker icon and color\u001b[39;00m\n",
      "File \u001b[0;32m/Library/Frameworks/Python.framework/Versions/3.12/lib/python3.12/site-packages/folium/folium.py:278\u001b[0m, in \u001b[0;36mMap.__init__\u001b[0;34m(self, location, width, height, left, top, position, tiles, attr, min_zoom, max_zoom, zoom_start, min_lat, max_lat, min_lon, max_lon, max_bounds, crs, control_scale, prefer_canvas, no_touch, disable_3d, png_enabled, zoom_control, font_size, **kwargs)\u001b[0m\n\u001b[1;32m    276\u001b[0m     zoom_start \u001b[38;5;241m=\u001b[39m \u001b[38;5;241m1\u001b[39m\n\u001b[1;32m    277\u001b[0m \u001b[38;5;28;01melse\u001b[39;00m:\n\u001b[0;32m--> 278\u001b[0m     \u001b[38;5;28mself\u001b[39m\u001b[38;5;241m.\u001b[39mlocation \u001b[38;5;241m=\u001b[39m \u001b[43mvalidate_location\u001b[49m\u001b[43m(\u001b[49m\u001b[43mlocation\u001b[49m\u001b[43m)\u001b[49m\n\u001b[1;32m    280\u001b[0m Figure()\u001b[38;5;241m.\u001b[39madd_child(\u001b[38;5;28mself\u001b[39m)\n\u001b[1;32m    282\u001b[0m \u001b[38;5;66;03m# Map Size Parameters.\u001b[39;00m\n",
      "File \u001b[0;32m/Library/Frameworks/Python.framework/Versions/3.12/lib/python3.12/site-packages/folium/utilities.py:101\u001b[0m, in \u001b[0;36mvalidate_location\u001b[0;34m(location)\u001b[0m\n\u001b[1;32m     96\u001b[0m         \u001b[38;5;28;01mraise\u001b[39;00m \u001b[38;5;167;01mValueError\u001b[39;00m(\n\u001b[1;32m     97\u001b[0m             \u001b[38;5;124m\"\u001b[39m\u001b[38;5;124mLocation should consist of two numerical values, \u001b[39m\u001b[38;5;124m\"\u001b[39m\n\u001b[1;32m     98\u001b[0m             \u001b[38;5;124mf\u001b[39m\u001b[38;5;124m\"\u001b[39m\u001b[38;5;124mbut \u001b[39m\u001b[38;5;132;01m{\u001b[39;00mcoord\u001b[38;5;132;01m!r}\u001b[39;00m\u001b[38;5;124m of type \u001b[39m\u001b[38;5;132;01m{\u001b[39;00m\u001b[38;5;28mtype\u001b[39m(coord)\u001b[38;5;132;01m}\u001b[39;00m\u001b[38;5;124m is not convertible to float.\u001b[39m\u001b[38;5;124m\"\u001b[39m\n\u001b[1;32m     99\u001b[0m         )\n\u001b[1;32m    100\u001b[0m     \u001b[38;5;28;01mif\u001b[39;00m math\u001b[38;5;241m.\u001b[39misnan(\u001b[38;5;28mfloat\u001b[39m(coord)):\n\u001b[0;32m--> 101\u001b[0m         \u001b[38;5;28;01mraise\u001b[39;00m \u001b[38;5;167;01mValueError\u001b[39;00m(\u001b[38;5;124m\"\u001b[39m\u001b[38;5;124mLocation values cannot contain NaNs.\u001b[39m\u001b[38;5;124m\"\u001b[39m)\n\u001b[1;32m    102\u001b[0m \u001b[38;5;28;01mreturn\u001b[39;00m [\u001b[38;5;28mfloat\u001b[39m(x) \u001b[38;5;28;01mfor\u001b[39;00m x \u001b[38;5;129;01min\u001b[39;00m coords]\n",
      "\u001b[0;31mValueError\u001b[0m: Location values cannot contain NaNs."
     ]
    }
   ],
   "source": [
    "# Draw a map\n",
    "\n",
    "# Create a map centered around the mean latitude and longitude\n",
    "center_lat = common_rows['Latitude'].mean()\n",
    "center_lon = common_rows['Longitude'].mean()\n",
    "m = folium.Map(location=[center_lat, center_lon], zoom_start=7)\n",
    "\n",
    "# Add markers with name labels next to each point\n",
    "for idx, row in output_common_rows.iterrows():\n",
    "    # Customize marker icon and color\n",
    "    folium.Marker(\n",
    "        location=[row['Latitude'], row['Longitude']],\n",
    "        popup=row['Name'],  # Display the name when clicked\n",
    "        # tooltip=row['Name'],  # Display the name on hover\n",
    "        icon=folium.Icon(color='blue', icon='info-sign')  # Customize icon color and style\n",
    "    ).add_to(m)\n",
    "\n",
    "# Display the map in a Jupyter Notebook\n",
    "m\n"
   ]
  },
  {
   "cell_type": "code",
   "execution_count": null,
   "id": "26a775b2b57a8a5d",
   "metadata": {
    "ExecuteTime": {
     "end_time": "2024-11-10T08:47:54.867065Z",
     "start_time": "2024-11-10T08:47:54.825490Z"
    }
   },
   "outputs": [],
   "source": [
    "# save map\n",
    "m.save(\"/Users/gordonwatt/code/dev/morningglass.github.io/data/freya_grw.html\")"
   ]
  }
 ],
 "metadata": {
  "kernelspec": {
   "display_name": "Python 3",
   "language": "python",
   "name": "python3"
  },
  "language_info": {
   "codemirror_mode": {
    "name": "ipython",
    "version": 3
   },
   "file_extension": ".py",
   "mimetype": "text/x-python",
   "name": "python",
   "nbconvert_exporter": "python",
   "pygments_lexer": "ipython3",
   "version": "3.12.5"
  }
 },
 "nbformat": 4,
 "nbformat_minor": 5
}
